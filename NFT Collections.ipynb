{
 "cells": [
  {
   "cell_type": "code",
   "execution_count": 127,
   "id": "3c67ffed",
   "metadata": {},
   "outputs": [],
   "source": [
    "import numpy as np\n",
    "import pandas as pd\n",
    "import matplotlib.pyplot as plt\n",
    "import seaborn as sns\n"
   ]
  },
  {
   "cell_type": "code",
   "execution_count": 128,
   "id": "97a29cf6",
   "metadata": {},
   "outputs": [],
   "source": [
    "data = pd.read_csv(r\"C:\\Users\\renji\\Downloads\\nft_sales.csv\")"
   ]
  },
  {
   "cell_type": "code",
   "execution_count": 129,
   "id": "a499e155",
   "metadata": {},
   "outputs": [
    {
     "data": {
      "text/html": [
       "<div>\n",
       "<style scoped>\n",
       "    .dataframe tbody tr th:only-of-type {\n",
       "        vertical-align: middle;\n",
       "    }\n",
       "\n",
       "    .dataframe tbody tr th {\n",
       "        vertical-align: top;\n",
       "    }\n",
       "\n",
       "    .dataframe thead th {\n",
       "        text-align: right;\n",
       "    }\n",
       "</style>\n",
       "<table border=\"1\" class=\"dataframe\">\n",
       "  <thead>\n",
       "    <tr style=\"text-align: right;\">\n",
       "      <th></th>\n",
       "      <th>Collections</th>\n",
       "      <th>Sales</th>\n",
       "      <th>Buyers</th>\n",
       "      <th>Txns</th>\n",
       "      <th>Owners</th>\n",
       "    </tr>\n",
       "  </thead>\n",
       "  <tbody>\n",
       "    <tr>\n",
       "      <th>0</th>\n",
       "      <td>Axie Infinity</td>\n",
       "      <td>$3,328,148,500</td>\n",
       "      <td>1,079,811</td>\n",
       "      <td>9,755,511</td>\n",
       "      <td>2,656,431</td>\n",
       "    </tr>\n",
       "    <tr>\n",
       "      <th>1</th>\n",
       "      <td>CryptoPunks</td>\n",
       "      <td>$1,664,246,968</td>\n",
       "      <td>4,723</td>\n",
       "      <td>18,961</td>\n",
       "      <td>3,289</td>\n",
       "    </tr>\n",
       "    <tr>\n",
       "      <th>2</th>\n",
       "      <td>Art Blocks</td>\n",
       "      <td>$1,075,223,906</td>\n",
       "      <td>20,934</td>\n",
       "      <td>117,602</td>\n",
       "      <td>25,094</td>\n",
       "    </tr>\n",
       "    <tr>\n",
       "      <th>3</th>\n",
       "      <td>Bored Ape Yacht Club</td>\n",
       "      <td>$783,882,186</td>\n",
       "      <td>8,284</td>\n",
       "      <td>22,584</td>\n",
       "      <td>5,862</td>\n",
       "    </tr>\n",
       "    <tr>\n",
       "      <th>4</th>\n",
       "      <td>NBA Top Shot</td>\n",
       "      <td>$781,965,423</td>\n",
       "      <td>374,818</td>\n",
       "      <td>11,790,699</td>\n",
       "      <td>603,928</td>\n",
       "    </tr>\n",
       "  </tbody>\n",
       "</table>\n",
       "</div>"
      ],
      "text/plain": [
       "            Collections           Sales     Buyers        Txns     Owners\n",
       "0         Axie Infinity  $3,328,148,500  1,079,811   9,755,511  2,656,431\n",
       "1           CryptoPunks  $1,664,246,968      4,723      18,961      3,289\n",
       "2            Art Blocks  $1,075,223,906     20,934     117,602     25,094\n",
       "3  Bored Ape Yacht Club    $783,882,186      8,284      22,584      5,862\n",
       "4          NBA Top Shot    $781,965,423    374,818  11,790,699    603,928"
      ]
     },
     "execution_count": 129,
     "metadata": {},
     "output_type": "execute_result"
    }
   ],
   "source": [
    "data.head(5)"
   ]
  },
  {
   "cell_type": "code",
   "execution_count": 130,
   "id": "2bbd5277",
   "metadata": {},
   "outputs": [
    {
     "name": "stdout",
     "output_type": "stream",
     "text": [
      "<class 'pandas.core.frame.DataFrame'>\n",
      "RangeIndex: 250 entries, 0 to 249\n",
      "Data columns (total 5 columns):\n",
      " #   Column       Non-Null Count  Dtype \n",
      "---  ------       --------------  ----- \n",
      " 0   Collections  250 non-null    object\n",
      " 1   Sales        250 non-null    object\n",
      " 2   Buyers       250 non-null    object\n",
      " 3   Txns         250 non-null    object\n",
      " 4   Owners       244 non-null    object\n",
      "dtypes: object(5)\n",
      "memory usage: 9.9+ KB\n"
     ]
    }
   ],
   "source": [
    "data.info()"
   ]
  },
  {
   "cell_type": "markdown",
   "id": "41008641",
   "metadata": {},
   "source": [
    "The Owner coloumn has 6 null values and all the values are given in object format"
   ]
  },
  {
   "cell_type": "code",
   "execution_count": 131,
   "id": "a27986d6",
   "metadata": {},
   "outputs": [
    {
     "data": {
      "text/plain": [
       "Axie Infinity           1\n",
       "UninterestedUnicorns    1\n",
       "KingFrogs               1\n",
       "Piggy Sol Gang          1\n",
       "Byo Pills               1\n",
       "                       ..\n",
       "Space Punks Club        1\n",
       "Deafbeef                1\n",
       "DystoPunks V2           1\n",
       "Habbo Avatars           1\n",
       "Cyber Pharmacist        1\n",
       "Name: Collections, Length: 250, dtype: int64"
      ]
     },
     "execution_count": 131,
     "metadata": {},
     "output_type": "execute_result"
    }
   ],
   "source": [
    "data['Collections'].value_counts()"
   ]
  },
  {
   "cell_type": "code",
   "execution_count": 132,
   "id": "82ffcdd7",
   "metadata": {},
   "outputs": [
    {
     "data": {
      "text/plain": [
       "array(['Axie Infinity', 'CryptoPunks', 'Art Blocks',\n",
       "       'Bored Ape Yacht Club', 'NBA Top Shot', 'Mutant Ape Yacht Club',\n",
       "       'Loot', 'Meebits', 'Cool Cats', 'CrypToadz', 'Parallel Alpha',\n",
       "       'MekaVerse', '0N1 Force', 'Farmers World', 'Pudgy Penguins',\n",
       "       'Sorare', 'PUNKS Comic', 'Zed Run', 'CyberKongz',\n",
       "       'Solana Monkey Business', 'Degenerate Ape Academy',\n",
       "       'Bored Ape Kennel Club', 'Curio Cards', 'The Sandbox', 'Doodles',\n",
       "       'Veefriends', 'Creature World NFT', 'Emblem Vault', 'LOSTPOETS',\n",
       "       'Hashmasks', 'World Of Women', 'Bored Ape Chemistry Club',\n",
       "       'The Doge Pound', 'Aurory', 'Sneaky Vampire Syndicate',\n",
       "       'Lazy Lions', 'Mooncats', 'CyberKongz VX', 'Kaiju Kingz',\n",
       "       'MutantCats', 'GalacticApes', 'Fluf World', 'Sup Ducks',\n",
       "       'Wolf Game', '888 Inner Circle', 'Galactic Gecko Space Garage',\n",
       "       'CryptoKitties', 'Anonymice', 'Galaxy Eggs', 'Autoglyphs',\n",
       "       'The Sevens', 'Koala Intelligence Agency', 'Adam Bomb Squad',\n",
       "       'Neo Tokyo Identities', 'The n project', 'Vox Collectibles',\n",
       "       'The Humanoids', 'Treeverse', 'The Shiboshis', 'Gutter Cat Gang',\n",
       "       'The CryptoDads', 'Peaceful Groupies', 'Bloot', 'Farming Tales',\n",
       "       'Rumble Kong League', 'Alien Worlds', 'SolPunks', 'Blitmap',\n",
       "       'Robotos Official', 'DeadFellaz', 'Tom Sachs Rocket Factory',\n",
       "       'Metasaurs by Dr. DMT', 'Animetas', 'Winter Bears',\n",
       "       'MetaHero Universe Generative', 'Cryptovoxels',\n",
       "       'Party Ape Billionaire Club', 'BugBears', 'Frontier Game',\n",
       "       'Bold Badgers', 'Meerkat Millionaires Country Club', 'Thug Birdz',\n",
       "       'Frakt', 'The Wicked Craniums', 'The Vogu Collective',\n",
       "       'Cupcats Official', 'Bastard Gan Punks V2', 'Stoner Cats',\n",
       "       'Space Punks Club', 'Deafbeef', 'DystoPunks V2', 'Habbo Avatars',\n",
       "       'Panini America', 'Sipherian Surge', 'R Planet', 'Solsteads',\n",
       "       'Galaxy Fight Club', 'CryptoArte', 'Forgotten Runes',\n",
       "       'Mike Tyson NFT', 'Incognito', 'Desperate ApeWives',\n",
       "       'The Yakuza Cats Society', 'Monkey Bet DAO',\n",
       "       'Lonely Alien Space Club', 'Topps MLB', 'Infinity Labs',\n",
       "       'World Poker Tour', 'Voxies', 'Avid Lines',\n",
       "       'The Official Surreals', 'Divine Anarchy', 'Bulls On The Block',\n",
       "       'Rogue Sharks', 'Dapper Dinos NFT', 'StackedToadz',\n",
       "       'The Wanderers', 'Fat Ape Club', 'Gutter Rats', 'FoxFam',\n",
       "       'Dead Heads', 'Smilesssvrs', 'TheHeartProject', 'OnChainMonkey',\n",
       "       'Nifty League DEGENs', 'CreatureToadz', 'Bored Mummy Waking Up',\n",
       "       'Boss Beauties', 'Crypto Cannabis Club', 'Rogue Society Bot',\n",
       "       'GOOP TROOP', 'Chicken Derby', 'Colonize Mars', 'Gauntlets',\n",
       "       'Mutant Garden Seeder', 'Sollamas', 'Axolittles',\n",
       "       'Goons of Balatroon', 'NFT Worlds',\n",
       "       'CryptoHoots Steampunk Parliament', 'Star Sailor Siblings',\n",
       "       'NAH Fungible Bones', 'MetaHero Universe DAO Tokens',\n",
       "       'Generativemasks', 'Royal Society Players', 'ALPACADABRAZ',\n",
       "       'Space Poggers', 'Chill Frogs NFT', 'Obits Official',\n",
       "       'Purrnelopes Country Club', '0xVampire',\n",
       "       'Playboy Rabbitars Official', 'HeavenComputer', 'Fancy Frenchies',\n",
       "       'Wrapped Strikers', 'Sad Frogs District', 'Crazy Lizard Army',\n",
       "       'Red Panda Squad', 'KingFrogs', 'Piggy Sol Gang', 'Byo Pills',\n",
       "       'Avastars', 'SolSnatchers', 'JunkYardDogs', 'F1 Delta Time',\n",
       "       'Pesky Penguins', 'Voxodeus', 'JungleCats', 'Rebel Seals Club',\n",
       "       'Visitors Of Imma Degen', 'Metabaes', 'UninterestedUnicorns',\n",
       "       'Jenkins the Valet The Writers Room', 'COVIDPunks', 'Nftrees',\n",
       "       'The Alien Boy', 'Chain Saw', 'Ether Cards Founder Series',\n",
       "       'Nftboxes', 'The Lost Glitches', 'Fame Lady Squad', 'Illuvium',\n",
       "       'Famous Fox Federation', 'Solarians', 'Cyber Frogs',\n",
       "       'Skeleton Crew Skulls', 'Chibi Apes', 'SolYetis', 'Grim Syndicate',\n",
       "       'Xpansion', 'Eternal Beings', 'Non Fungible Fungi Genesis',\n",
       "       'Fast Food Frens Collection', 'Chubbies', 'Great Ape Society',\n",
       "       'Animonkeys', 'Top Dog Beach Club', 'Bunks', 'Splinterlands',\n",
       "       'Knights of Degen', 'Crypto Beasts', 'Bonsai by ZENFT',\n",
       "       'Bubblegum Kids', 'CryptoFlyz', 'Shabu Town Shibas', 'ZombieCats',\n",
       "       'SolChicks', 'Gods Unchained', 'Solana Bananas',\n",
       "       'Fluffy Polar Bears', 'Unirexcity', 'Super Shiba Club',\n",
       "       'Glue Factory Show', 'Kaiju Cards', 'Stylish Studs', 'The Sneks',\n",
       "       'BYOKEY', 'Dirtybird Flight Club', 'GenX by HOK', 'Birbs',\n",
       "       'PunkScapes', 'Crypto Cavemen', 'Super Yeti', 'SolanaDogeNFTs',\n",
       "       'Sipherian Flash', 'KOGS', 'Trippy Bunny Tribe', 'Block Art',\n",
       "       'Weird Whales', 'Wanna Panda', 'Crypto Zunks',\n",
       "       'Long Neckie Ladies', 'Lonely Frog Lambo Club', 'Bitcoin Origins',\n",
       "       'Green Rabbit', 'Al Cabones', 'CryptoCubs', 'Sol Souls',\n",
       "       'Wrapped Cryptocats', 'KAM1', 'Divine Order', 'Street Fighter',\n",
       "       'Crypto Raiders Characters', 'Goatz', 'Solana Valley', 'Evolution',\n",
       "       'LegionPunks', 'BabyApes', 'Train of the Century',\n",
       "       'Cyber Pharmacist'], dtype=object)"
      ]
     },
     "execution_count": 132,
     "metadata": {},
     "output_type": "execute_result"
    }
   ],
   "source": [
    "data['Collections'].unique()"
   ]
  },
  {
   "cell_type": "markdown",
   "id": "dca1608a",
   "metadata": {},
   "source": [
    "### Converting the Catagorical values"
   ]
  },
  {
   "cell_type": "code",
   "execution_count": 133,
   "id": "349fbe0d",
   "metadata": {},
   "outputs": [
    {
     "name": "stderr",
     "output_type": "stream",
     "text": [
      "C:\\Users\\renji\\AppData\\Local\\Temp/ipykernel_44004/1233711158.py:2: FutureWarning: The default value of regex will change from True to False in a future version. In addition, single character regular expressions will *not* be treated as literal strings when regex=True.\n",
      "  data['Sales'] = data['Sales'].str.replace('$', '')\n"
     ]
    }
   ],
   "source": [
    "# Data cleaning\n",
    "data['Sales'] = data['Sales'].str.replace('$', '')"
   ]
  },
  {
   "cell_type": "code",
   "execution_count": 134,
   "id": "99bca154",
   "metadata": {},
   "outputs": [
    {
     "data": {
      "text/html": [
       "<div>\n",
       "<style scoped>\n",
       "    .dataframe tbody tr th:only-of-type {\n",
       "        vertical-align: middle;\n",
       "    }\n",
       "\n",
       "    .dataframe tbody tr th {\n",
       "        vertical-align: top;\n",
       "    }\n",
       "\n",
       "    .dataframe thead th {\n",
       "        text-align: right;\n",
       "    }\n",
       "</style>\n",
       "<table border=\"1\" class=\"dataframe\">\n",
       "  <thead>\n",
       "    <tr style=\"text-align: right;\">\n",
       "      <th></th>\n",
       "      <th>Collections</th>\n",
       "      <th>Sales</th>\n",
       "      <th>Buyers</th>\n",
       "      <th>Txns</th>\n",
       "      <th>Owners</th>\n",
       "    </tr>\n",
       "  </thead>\n",
       "  <tbody>\n",
       "    <tr>\n",
       "      <th>0</th>\n",
       "      <td>Axie Infinity</td>\n",
       "      <td>3,328,148,500</td>\n",
       "      <td>1,079,811</td>\n",
       "      <td>9,755,511</td>\n",
       "      <td>2,656,431</td>\n",
       "    </tr>\n",
       "    <tr>\n",
       "      <th>1</th>\n",
       "      <td>CryptoPunks</td>\n",
       "      <td>1,664,246,968</td>\n",
       "      <td>4,723</td>\n",
       "      <td>18,961</td>\n",
       "      <td>3,289</td>\n",
       "    </tr>\n",
       "    <tr>\n",
       "      <th>2</th>\n",
       "      <td>Art Blocks</td>\n",
       "      <td>1,075,223,906</td>\n",
       "      <td>20,934</td>\n",
       "      <td>117,602</td>\n",
       "      <td>25,094</td>\n",
       "    </tr>\n",
       "    <tr>\n",
       "      <th>3</th>\n",
       "      <td>Bored Ape Yacht Club</td>\n",
       "      <td>783,882,186</td>\n",
       "      <td>8,284</td>\n",
       "      <td>22,584</td>\n",
       "      <td>5,862</td>\n",
       "    </tr>\n",
       "    <tr>\n",
       "      <th>4</th>\n",
       "      <td>NBA Top Shot</td>\n",
       "      <td>781,965,423</td>\n",
       "      <td>374,818</td>\n",
       "      <td>11,790,699</td>\n",
       "      <td>603,928</td>\n",
       "    </tr>\n",
       "    <tr>\n",
       "      <th>...</th>\n",
       "      <td>...</td>\n",
       "      <td>...</td>\n",
       "      <td>...</td>\n",
       "      <td>...</td>\n",
       "      <td>...</td>\n",
       "    </tr>\n",
       "    <tr>\n",
       "      <th>245</th>\n",
       "      <td>Evolution</td>\n",
       "      <td>2,536,468</td>\n",
       "      <td>746</td>\n",
       "      <td>4,961</td>\n",
       "      <td>2,061</td>\n",
       "    </tr>\n",
       "    <tr>\n",
       "      <th>246</th>\n",
       "      <td>LegionPunks</td>\n",
       "      <td>2,535,490</td>\n",
       "      <td>1,702</td>\n",
       "      <td>3,794</td>\n",
       "      <td>2,410</td>\n",
       "    </tr>\n",
       "    <tr>\n",
       "      <th>247</th>\n",
       "      <td>BabyApes</td>\n",
       "      <td>2,521,714</td>\n",
       "      <td>1,671</td>\n",
       "      <td>3,405</td>\n",
       "      <td>2,785</td>\n",
       "    </tr>\n",
       "    <tr>\n",
       "      <th>248</th>\n",
       "      <td>Train of the Century</td>\n",
       "      <td>2,504,080</td>\n",
       "      <td>3,139</td>\n",
       "      <td>39,460</td>\n",
       "      <td>3,160</td>\n",
       "    </tr>\n",
       "    <tr>\n",
       "      <th>249</th>\n",
       "      <td>Cyber Pharmacist</td>\n",
       "      <td>2,498,805</td>\n",
       "      <td>3,206</td>\n",
       "      <td>8,452</td>\n",
       "      <td>3,689</td>\n",
       "    </tr>\n",
       "  </tbody>\n",
       "</table>\n",
       "<p>250 rows × 5 columns</p>\n",
       "</div>"
      ],
      "text/plain": [
       "              Collections          Sales     Buyers        Txns     Owners\n",
       "0           Axie Infinity  3,328,148,500  1,079,811   9,755,511  2,656,431\n",
       "1             CryptoPunks  1,664,246,968      4,723      18,961      3,289\n",
       "2              Art Blocks  1,075,223,906     20,934     117,602     25,094\n",
       "3    Bored Ape Yacht Club    783,882,186      8,284      22,584      5,862\n",
       "4            NBA Top Shot    781,965,423    374,818  11,790,699    603,928\n",
       "..                    ...            ...        ...         ...        ...\n",
       "245             Evolution      2,536,468        746       4,961      2,061\n",
       "246           LegionPunks      2,535,490      1,702       3,794      2,410\n",
       "247              BabyApes      2,521,714      1,671       3,405      2,785\n",
       "248  Train of the Century      2,504,080      3,139      39,460      3,160\n",
       "249      Cyber Pharmacist      2,498,805      3,206       8,452      3,689\n",
       "\n",
       "[250 rows x 5 columns]"
      ]
     },
     "execution_count": 134,
     "metadata": {},
     "output_type": "execute_result"
    }
   ],
   "source": [
    "data"
   ]
  },
  {
   "cell_type": "code",
   "execution_count": 135,
   "id": "dcdb718e",
   "metadata": {},
   "outputs": [],
   "source": [
    "# converting catagorical values to numerical values \n",
    "columns = ['Sales','Buyers','Txns','Owners' ]\n",
    "for col in columns:\n",
    "    data[col] = data[col].str.replace(',', '')"
   ]
  },
  {
   "cell_type": "code",
   "execution_count": 136,
   "id": "0d4bd071",
   "metadata": {},
   "outputs": [],
   "source": [
    "for col in columns:\n",
    "    data[col] = data[col].astype(float)"
   ]
  },
  {
   "cell_type": "code",
   "execution_count": 137,
   "id": "e48f3725",
   "metadata": {},
   "outputs": [
    {
     "data": {
      "text/html": [
       "<div>\n",
       "<style scoped>\n",
       "    .dataframe tbody tr th:only-of-type {\n",
       "        vertical-align: middle;\n",
       "    }\n",
       "\n",
       "    .dataframe tbody tr th {\n",
       "        vertical-align: top;\n",
       "    }\n",
       "\n",
       "    .dataframe thead th {\n",
       "        text-align: right;\n",
       "    }\n",
       "</style>\n",
       "<table border=\"1\" class=\"dataframe\">\n",
       "  <thead>\n",
       "    <tr style=\"text-align: right;\">\n",
       "      <th></th>\n",
       "      <th>Collections</th>\n",
       "      <th>Sales</th>\n",
       "      <th>Buyers</th>\n",
       "      <th>Txns</th>\n",
       "      <th>Owners</th>\n",
       "    </tr>\n",
       "  </thead>\n",
       "  <tbody>\n",
       "    <tr>\n",
       "      <th>0</th>\n",
       "      <td>Axie Infinity</td>\n",
       "      <td>3.328148e+09</td>\n",
       "      <td>1079811.0</td>\n",
       "      <td>9755511.0</td>\n",
       "      <td>2656431.0</td>\n",
       "    </tr>\n",
       "    <tr>\n",
       "      <th>1</th>\n",
       "      <td>CryptoPunks</td>\n",
       "      <td>1.664247e+09</td>\n",
       "      <td>4723.0</td>\n",
       "      <td>18961.0</td>\n",
       "      <td>3289.0</td>\n",
       "    </tr>\n",
       "    <tr>\n",
       "      <th>2</th>\n",
       "      <td>Art Blocks</td>\n",
       "      <td>1.075224e+09</td>\n",
       "      <td>20934.0</td>\n",
       "      <td>117602.0</td>\n",
       "      <td>25094.0</td>\n",
       "    </tr>\n",
       "    <tr>\n",
       "      <th>3</th>\n",
       "      <td>Bored Ape Yacht Club</td>\n",
       "      <td>7.838822e+08</td>\n",
       "      <td>8284.0</td>\n",
       "      <td>22584.0</td>\n",
       "      <td>5862.0</td>\n",
       "    </tr>\n",
       "    <tr>\n",
       "      <th>4</th>\n",
       "      <td>NBA Top Shot</td>\n",
       "      <td>7.819654e+08</td>\n",
       "      <td>374818.0</td>\n",
       "      <td>11790699.0</td>\n",
       "      <td>603928.0</td>\n",
       "    </tr>\n",
       "    <tr>\n",
       "      <th>...</th>\n",
       "      <td>...</td>\n",
       "      <td>...</td>\n",
       "      <td>...</td>\n",
       "      <td>...</td>\n",
       "      <td>...</td>\n",
       "    </tr>\n",
       "    <tr>\n",
       "      <th>245</th>\n",
       "      <td>Evolution</td>\n",
       "      <td>2.536468e+06</td>\n",
       "      <td>746.0</td>\n",
       "      <td>4961.0</td>\n",
       "      <td>2061.0</td>\n",
       "    </tr>\n",
       "    <tr>\n",
       "      <th>246</th>\n",
       "      <td>LegionPunks</td>\n",
       "      <td>2.535490e+06</td>\n",
       "      <td>1702.0</td>\n",
       "      <td>3794.0</td>\n",
       "      <td>2410.0</td>\n",
       "    </tr>\n",
       "    <tr>\n",
       "      <th>247</th>\n",
       "      <td>BabyApes</td>\n",
       "      <td>2.521714e+06</td>\n",
       "      <td>1671.0</td>\n",
       "      <td>3405.0</td>\n",
       "      <td>2785.0</td>\n",
       "    </tr>\n",
       "    <tr>\n",
       "      <th>248</th>\n",
       "      <td>Train of the Century</td>\n",
       "      <td>2.504080e+06</td>\n",
       "      <td>3139.0</td>\n",
       "      <td>39460.0</td>\n",
       "      <td>3160.0</td>\n",
       "    </tr>\n",
       "    <tr>\n",
       "      <th>249</th>\n",
       "      <td>Cyber Pharmacist</td>\n",
       "      <td>2.498805e+06</td>\n",
       "      <td>3206.0</td>\n",
       "      <td>8452.0</td>\n",
       "      <td>3689.0</td>\n",
       "    </tr>\n",
       "  </tbody>\n",
       "</table>\n",
       "<p>250 rows × 5 columns</p>\n",
       "</div>"
      ],
      "text/plain": [
       "              Collections         Sales     Buyers        Txns     Owners\n",
       "0           Axie Infinity  3.328148e+09  1079811.0   9755511.0  2656431.0\n",
       "1             CryptoPunks  1.664247e+09     4723.0     18961.0     3289.0\n",
       "2              Art Blocks  1.075224e+09    20934.0    117602.0    25094.0\n",
       "3    Bored Ape Yacht Club  7.838822e+08     8284.0     22584.0     5862.0\n",
       "4            NBA Top Shot  7.819654e+08   374818.0  11790699.0   603928.0\n",
       "..                    ...           ...        ...         ...        ...\n",
       "245             Evolution  2.536468e+06      746.0      4961.0     2061.0\n",
       "246           LegionPunks  2.535490e+06     1702.0      3794.0     2410.0\n",
       "247              BabyApes  2.521714e+06     1671.0      3405.0     2785.0\n",
       "248  Train of the Century  2.504080e+06     3139.0     39460.0     3160.0\n",
       "249      Cyber Pharmacist  2.498805e+06     3206.0      8452.0     3689.0\n",
       "\n",
       "[250 rows x 5 columns]"
      ]
     },
     "execution_count": 137,
     "metadata": {},
     "output_type": "execute_result"
    }
   ],
   "source": [
    "data"
   ]
  },
  {
   "cell_type": "code",
   "execution_count": 138,
   "id": "8c69592a",
   "metadata": {},
   "outputs": [
    {
     "name": "stdout",
     "output_type": "stream",
     "text": [
      "<class 'pandas.core.frame.DataFrame'>\n",
      "RangeIndex: 250 entries, 0 to 249\n",
      "Data columns (total 5 columns):\n",
      " #   Column       Non-Null Count  Dtype  \n",
      "---  ------       --------------  -----  \n",
      " 0   Collections  250 non-null    object \n",
      " 1   Sales        250 non-null    float64\n",
      " 2   Buyers       250 non-null    float64\n",
      " 3   Txns         250 non-null    float64\n",
      " 4   Owners       244 non-null    float64\n",
      "dtypes: float64(4), object(1)\n",
      "memory usage: 9.9+ KB\n"
     ]
    }
   ],
   "source": [
    "data.info()"
   ]
  },
  {
   "cell_type": "code",
   "execution_count": 139,
   "id": "ba07d3c7",
   "metadata": {},
   "outputs": [],
   "source": [
    "# remove the null values from the dataset\n",
    "#since the no of null values is less in the dataset we are removing the entire rows with jull values\n",
    "\n",
    "data_new = data.dropna()"
   ]
  },
  {
   "cell_type": "code",
   "execution_count": 140,
   "id": "c35e819c",
   "metadata": {},
   "outputs": [
    {
     "name": "stdout",
     "output_type": "stream",
     "text": [
      "<class 'pandas.core.frame.DataFrame'>\n",
      "Int64Index: 244 entries, 0 to 249\n",
      "Data columns (total 5 columns):\n",
      " #   Column       Non-Null Count  Dtype  \n",
      "---  ------       --------------  -----  \n",
      " 0   Collections  244 non-null    object \n",
      " 1   Sales        244 non-null    float64\n",
      " 2   Buyers       244 non-null    float64\n",
      " 3   Txns         244 non-null    float64\n",
      " 4   Owners       244 non-null    float64\n",
      "dtypes: float64(4), object(1)\n",
      "memory usage: 11.4+ KB\n"
     ]
    }
   ],
   "source": [
    "data_new.info()"
   ]
  },
  {
   "cell_type": "markdown",
   "id": "54acf851",
   "metadata": {},
   "source": [
    "## EDA"
   ]
  },
  {
   "cell_type": "code",
   "execution_count": 141,
   "id": "02258a36",
   "metadata": {},
   "outputs": [
    {
     "data": {
      "text/html": [
       "<div>\n",
       "<style scoped>\n",
       "    .dataframe tbody tr th:only-of-type {\n",
       "        vertical-align: middle;\n",
       "    }\n",
       "\n",
       "    .dataframe tbody tr th {\n",
       "        vertical-align: top;\n",
       "    }\n",
       "\n",
       "    .dataframe thead th {\n",
       "        text-align: right;\n",
       "    }\n",
       "</style>\n",
       "<table border=\"1\" class=\"dataframe\">\n",
       "  <thead>\n",
       "    <tr style=\"text-align: right;\">\n",
       "      <th></th>\n",
       "      <th>Collections</th>\n",
       "      <th>Sales</th>\n",
       "      <th>Buyers</th>\n",
       "      <th>Txns</th>\n",
       "      <th>Owners</th>\n",
       "    </tr>\n",
       "  </thead>\n",
       "  <tbody>\n",
       "    <tr>\n",
       "      <th>0</th>\n",
       "      <td>Axie Infinity</td>\n",
       "      <td>3.328148e+09</td>\n",
       "      <td>1079811.0</td>\n",
       "      <td>9755511.0</td>\n",
       "      <td>2656431.0</td>\n",
       "    </tr>\n",
       "    <tr>\n",
       "      <th>1</th>\n",
       "      <td>CryptoPunks</td>\n",
       "      <td>1.664247e+09</td>\n",
       "      <td>4723.0</td>\n",
       "      <td>18961.0</td>\n",
       "      <td>3289.0</td>\n",
       "    </tr>\n",
       "    <tr>\n",
       "      <th>2</th>\n",
       "      <td>Art Blocks</td>\n",
       "      <td>1.075224e+09</td>\n",
       "      <td>20934.0</td>\n",
       "      <td>117602.0</td>\n",
       "      <td>25094.0</td>\n",
       "    </tr>\n",
       "    <tr>\n",
       "      <th>3</th>\n",
       "      <td>Bored Ape Yacht Club</td>\n",
       "      <td>7.838822e+08</td>\n",
       "      <td>8284.0</td>\n",
       "      <td>22584.0</td>\n",
       "      <td>5862.0</td>\n",
       "    </tr>\n",
       "    <tr>\n",
       "      <th>4</th>\n",
       "      <td>NBA Top Shot</td>\n",
       "      <td>7.819654e+08</td>\n",
       "      <td>374818.0</td>\n",
       "      <td>11790699.0</td>\n",
       "      <td>603928.0</td>\n",
       "    </tr>\n",
       "    <tr>\n",
       "      <th>...</th>\n",
       "      <td>...</td>\n",
       "      <td>...</td>\n",
       "      <td>...</td>\n",
       "      <td>...</td>\n",
       "      <td>...</td>\n",
       "    </tr>\n",
       "    <tr>\n",
       "      <th>245</th>\n",
       "      <td>Evolution</td>\n",
       "      <td>2.536468e+06</td>\n",
       "      <td>746.0</td>\n",
       "      <td>4961.0</td>\n",
       "      <td>2061.0</td>\n",
       "    </tr>\n",
       "    <tr>\n",
       "      <th>246</th>\n",
       "      <td>LegionPunks</td>\n",
       "      <td>2.535490e+06</td>\n",
       "      <td>1702.0</td>\n",
       "      <td>3794.0</td>\n",
       "      <td>2410.0</td>\n",
       "    </tr>\n",
       "    <tr>\n",
       "      <th>247</th>\n",
       "      <td>BabyApes</td>\n",
       "      <td>2.521714e+06</td>\n",
       "      <td>1671.0</td>\n",
       "      <td>3405.0</td>\n",
       "      <td>2785.0</td>\n",
       "    </tr>\n",
       "    <tr>\n",
       "      <th>248</th>\n",
       "      <td>Train of the Century</td>\n",
       "      <td>2.504080e+06</td>\n",
       "      <td>3139.0</td>\n",
       "      <td>39460.0</td>\n",
       "      <td>3160.0</td>\n",
       "    </tr>\n",
       "    <tr>\n",
       "      <th>249</th>\n",
       "      <td>Cyber Pharmacist</td>\n",
       "      <td>2.498805e+06</td>\n",
       "      <td>3206.0</td>\n",
       "      <td>8452.0</td>\n",
       "      <td>3689.0</td>\n",
       "    </tr>\n",
       "  </tbody>\n",
       "</table>\n",
       "<p>250 rows × 5 columns</p>\n",
       "</div>"
      ],
      "text/plain": [
       "              Collections         Sales     Buyers        Txns     Owners\n",
       "0           Axie Infinity  3.328148e+09  1079811.0   9755511.0  2656431.0\n",
       "1             CryptoPunks  1.664247e+09     4723.0     18961.0     3289.0\n",
       "2              Art Blocks  1.075224e+09    20934.0    117602.0    25094.0\n",
       "3    Bored Ape Yacht Club  7.838822e+08     8284.0     22584.0     5862.0\n",
       "4            NBA Top Shot  7.819654e+08   374818.0  11790699.0   603928.0\n",
       "..                    ...           ...        ...         ...        ...\n",
       "245             Evolution  2.536468e+06      746.0      4961.0     2061.0\n",
       "246           LegionPunks  2.535490e+06     1702.0      3794.0     2410.0\n",
       "247              BabyApes  2.521714e+06     1671.0      3405.0     2785.0\n",
       "248  Train of the Century  2.504080e+06     3139.0     39460.0     3160.0\n",
       "249      Cyber Pharmacist  2.498805e+06     3206.0      8452.0     3689.0\n",
       "\n",
       "[250 rows x 5 columns]"
      ]
     },
     "execution_count": 141,
     "metadata": {},
     "output_type": "execute_result"
    }
   ],
   "source": [
    "#sorting the dataframe based on the no of sales in decending order\n",
    "data.sort_values(by=['Sales'],ascending = False)"
   ]
  },
  {
   "cell_type": "markdown",
   "id": "4b335d65",
   "metadata": {},
   "source": [
    "### Top ten most sold items"
   ]
  },
  {
   "cell_type": "code",
   "execution_count": 142,
   "id": "fd69a71e",
   "metadata": {},
   "outputs": [],
   "source": [
    "data_1 = data.head(11)"
   ]
  },
  {
   "cell_type": "code",
   "execution_count": 143,
   "id": "91165f50",
   "metadata": {},
   "outputs": [
    {
     "data": {
      "text/html": [
       "<div>\n",
       "<style scoped>\n",
       "    .dataframe tbody tr th:only-of-type {\n",
       "        vertical-align: middle;\n",
       "    }\n",
       "\n",
       "    .dataframe tbody tr th {\n",
       "        vertical-align: top;\n",
       "    }\n",
       "\n",
       "    .dataframe thead th {\n",
       "        text-align: right;\n",
       "    }\n",
       "</style>\n",
       "<table border=\"1\" class=\"dataframe\">\n",
       "  <thead>\n",
       "    <tr style=\"text-align: right;\">\n",
       "      <th></th>\n",
       "      <th>Collections</th>\n",
       "      <th>Sales</th>\n",
       "      <th>Buyers</th>\n",
       "      <th>Txns</th>\n",
       "      <th>Owners</th>\n",
       "    </tr>\n",
       "  </thead>\n",
       "  <tbody>\n",
       "    <tr>\n",
       "      <th>0</th>\n",
       "      <td>Axie Infinity</td>\n",
       "      <td>3.328148e+09</td>\n",
       "      <td>1079811.0</td>\n",
       "      <td>9755511.0</td>\n",
       "      <td>2656431.0</td>\n",
       "    </tr>\n",
       "    <tr>\n",
       "      <th>1</th>\n",
       "      <td>CryptoPunks</td>\n",
       "      <td>1.664247e+09</td>\n",
       "      <td>4723.0</td>\n",
       "      <td>18961.0</td>\n",
       "      <td>3289.0</td>\n",
       "    </tr>\n",
       "    <tr>\n",
       "      <th>2</th>\n",
       "      <td>Art Blocks</td>\n",
       "      <td>1.075224e+09</td>\n",
       "      <td>20934.0</td>\n",
       "      <td>117602.0</td>\n",
       "      <td>25094.0</td>\n",
       "    </tr>\n",
       "    <tr>\n",
       "      <th>3</th>\n",
       "      <td>Bored Ape Yacht Club</td>\n",
       "      <td>7.838822e+08</td>\n",
       "      <td>8284.0</td>\n",
       "      <td>22584.0</td>\n",
       "      <td>5862.0</td>\n",
       "    </tr>\n",
       "    <tr>\n",
       "      <th>4</th>\n",
       "      <td>NBA Top Shot</td>\n",
       "      <td>7.819654e+08</td>\n",
       "      <td>374818.0</td>\n",
       "      <td>11790699.0</td>\n",
       "      <td>603928.0</td>\n",
       "    </tr>\n",
       "    <tr>\n",
       "      <th>5</th>\n",
       "      <td>Mutant Ape Yacht Club</td>\n",
       "      <td>4.224292e+08</td>\n",
       "      <td>10350.0</td>\n",
       "      <td>17343.0</td>\n",
       "      <td>10254.0</td>\n",
       "    </tr>\n",
       "    <tr>\n",
       "      <th>6</th>\n",
       "      <td>Loot</td>\n",
       "      <td>2.646520e+08</td>\n",
       "      <td>3571.0</td>\n",
       "      <td>9997.0</td>\n",
       "      <td>2555.0</td>\n",
       "    </tr>\n",
       "    <tr>\n",
       "      <th>7</th>\n",
       "      <td>Meebits</td>\n",
       "      <td>2.375194e+08</td>\n",
       "      <td>5112.0</td>\n",
       "      <td>13580.0</td>\n",
       "      <td>5361.0</td>\n",
       "    </tr>\n",
       "    <tr>\n",
       "      <th>8</th>\n",
       "      <td>Cool Cats</td>\n",
       "      <td>1.869378e+08</td>\n",
       "      <td>7960.0</td>\n",
       "      <td>23007.0</td>\n",
       "      <td>5029.0</td>\n",
       "    </tr>\n",
       "    <tr>\n",
       "      <th>9</th>\n",
       "      <td>CrypToadz</td>\n",
       "      <td>1.704074e+08</td>\n",
       "      <td>6277.0</td>\n",
       "      <td>15005.0</td>\n",
       "      <td>3525.0</td>\n",
       "    </tr>\n",
       "    <tr>\n",
       "      <th>10</th>\n",
       "      <td>Parallel Alpha</td>\n",
       "      <td>1.637249e+08</td>\n",
       "      <td>11103.0</td>\n",
       "      <td>67736.0</td>\n",
       "      <td>NaN</td>\n",
       "    </tr>\n",
       "  </tbody>\n",
       "</table>\n",
       "</div>"
      ],
      "text/plain": [
       "              Collections         Sales     Buyers        Txns     Owners\n",
       "0           Axie Infinity  3.328148e+09  1079811.0   9755511.0  2656431.0\n",
       "1             CryptoPunks  1.664247e+09     4723.0     18961.0     3289.0\n",
       "2              Art Blocks  1.075224e+09    20934.0    117602.0    25094.0\n",
       "3    Bored Ape Yacht Club  7.838822e+08     8284.0     22584.0     5862.0\n",
       "4            NBA Top Shot  7.819654e+08   374818.0  11790699.0   603928.0\n",
       "5   Mutant Ape Yacht Club  4.224292e+08    10350.0     17343.0    10254.0\n",
       "6                    Loot  2.646520e+08     3571.0      9997.0     2555.0\n",
       "7                 Meebits  2.375194e+08     5112.0     13580.0     5361.0\n",
       "8               Cool Cats  1.869378e+08     7960.0     23007.0     5029.0\n",
       "9               CrypToadz  1.704074e+08     6277.0     15005.0     3525.0\n",
       "10         Parallel Alpha  1.637249e+08    11103.0     67736.0        NaN"
      ]
     },
     "execution_count": 143,
     "metadata": {},
     "output_type": "execute_result"
    }
   ],
   "source": [
    "data_1"
   ]
  },
  {
   "cell_type": "code",
   "execution_count": 144,
   "id": "bcc5b77c",
   "metadata": {},
   "outputs": [
    {
     "data": {
      "text/plain": [
       "[Text(0, 0, 'Axie Infinity'),\n",
       " Text(1, 0, 'CryptoPunks'),\n",
       " Text(2, 0, 'Art Blocks'),\n",
       " Text(3, 0, 'Bored Ape Yacht Club'),\n",
       " Text(4, 0, 'NBA Top Shot'),\n",
       " Text(5, 0, 'Mutant Ape Yacht Club'),\n",
       " Text(6, 0, 'Loot'),\n",
       " Text(7, 0, 'Meebits'),\n",
       " Text(8, 0, 'Cool Cats'),\n",
       " Text(9, 0, 'CrypToadz'),\n",
       " Text(10, 0, 'Parallel Alpha')]"
      ]
     },
     "execution_count": 144,
     "metadata": {},
     "output_type": "execute_result"
    },
    {
     "data": {
      "image/png": "[encoded data removed]",
      "text/plain": [
       "<Figure size 432x288 with 1 Axes>"
      ]
     },
     "metadata": {
      "needs_background": "light"
     },
     "output_type": "display_data"
    }
   ],
   "source": [
    "# creating the bar diagram for the top 10 most sold collections\n",
    "bar_dia = sns.barplot(x= data_1['Collections'], y= data_1['Sales'])\n",
    "bar_dia.set_xticklabels(bar_dia.get_xticklabels(), rotation=90)"
   ]
  },
  {
   "cell_type": "markdown",
   "id": "21a88e64",
   "metadata": {},
   "source": [
    "The Axie Infinity has the most no of sales followed by CryptoPunks and Art Blocks"
   ]
  },
  {
   "cell_type": "markdown",
   "id": "a2a2317a",
   "metadata": {},
   "source": [
    "### Items that has most no of transactions"
   ]
  },
  {
   "cell_type": "code",
   "execution_count": 145,
   "id": "16067663",
   "metadata": {},
   "outputs": [
    {
     "name": "stderr",
     "output_type": "stream",
     "text": [
      "C:\\Users\\renji\\AppData\\Local\\Temp/ipykernel_44004/2695480520.py:5: UserWarning: FixedFormatter should only be used together with FixedLocator\n",
      "  bar_dia.set_xticklabels(bar_dia.get_xticklabels(), rotation=90)\n"
     ]
    },
    {
     "data": {
      "text/plain": [
       "[Text(0.0, 0, ''),\n",
       " Text(2000000.0, 0, ''),\n",
       " Text(4000000.0, 0, ''),\n",
       " Text(6000000.0, 0, ''),\n",
       " Text(8000000.0, 0, ''),\n",
       " Text(10000000.0, 0, ''),\n",
       " Text(12000000.0, 0, ''),\n",
       " Text(14000000.0, 0, '')]"
      ]
     },
     "execution_count": 145,
     "metadata": {},
     "output_type": "execute_result"
    },
    {
     "data": {
      "image/png": "[encoded data removed]",
      "text/plain": [
       "<Figure size 432x288 with 1 Axes>"
      ]
     },
     "metadata": {
      "needs_background": "light"
     },
     "output_type": "display_data"
    }
   ],
   "source": [
    "# creating the bar diagram for the top ten collections with most no of transactions\n",
    "data_3 = data.sort_values(by=['Txns'],ascending = False)\n",
    "top_trans = data_3.head(10)\n",
    "bar_dia = sns.barplot(y= top_trans['Collections'], x= top_trans['Txns'],orient ='h')\n",
    "bar_dia.set_xticklabels(bar_dia.get_xticklabels(), rotation=90)"
   ]
  },
  {
   "cell_type": "markdown",
   "id": "1fbd469c",
   "metadata": {},
   "source": [
    "### Sales vs Transactions"
   ]
  },
  {
   "cell_type": "code",
   "execution_count": 146,
   "id": "69827231",
   "metadata": {},
   "outputs": [
    {
     "data": {
      "image/png": "[encoded data removed]",
      "text/plain": [
       "<Figure size 432x288 with 1 Axes>"
      ]
     },
     "metadata": {
      "needs_background": "light"
     },
     "output_type": "display_data"
    }
   ],
   "source": [
    "bar_dia = sns.lineplot(x= data['Txns'], y= data['Sales'])"
   ]
  },
  {
   "cell_type": "markdown",
   "id": "d8a60908",
   "metadata": {},
   "source": [
    "we could see that there is not a direct relation ship between the no of transactions and total sales."
   ]
  },
  {
   "cell_type": "code",
   "execution_count": 147,
   "id": "3751becc",
   "metadata": {},
   "outputs": [
    {
     "data": {
      "text/plain": [
       "Text(0.5, 1.0, 'sales data')"
      ]
     },
     "execution_count": 147,
     "metadata": {},
     "output_type": "execute_result"
    },
    {
     "data": {
      "image/png": "[encoded data removed]",
      "text/plain": [
       "<Figure size 432x288 with 1 Axes>"
      ]
     },
     "metadata": {
      "needs_background": "light"
     },
     "output_type": "display_data"
    }
   ],
   "source": [
    "# analysing the sales data using the box plot\n",
    "sns.boxplot( y= data_1['Sales'])\n",
    "plt.title('sales data')"
   ]
  },
  {
   "cell_type": "markdown",
   "id": "2afb5d5d",
   "metadata": {},
   "source": [
    "### Collections which the sales are over a Billion"
   ]
  },
  {
   "cell_type": "code",
   "execution_count": 148,
   "id": "c028db9d",
   "metadata": {},
   "outputs": [
    {
     "name": "stdout",
     "output_type": "stream",
     "text": [
      "<class 'pandas.core.frame.DataFrame'>\n",
      "Int64Index: 3 entries, 0 to 2\n",
      "Data columns (total 5 columns):\n",
      " #   Column       Non-Null Count  Dtype  \n",
      "---  ------       --------------  -----  \n",
      " 0   Collections  3 non-null      object \n",
      " 1   Sales        3 non-null      float64\n",
      " 2   Buyers       3 non-null      float64\n",
      " 3   Txns         3 non-null      float64\n",
      " 4   Owners       3 non-null      float64\n",
      "dtypes: float64(4), object(1)\n",
      "memory usage: 144.0+ bytes\n"
     ]
    }
   ],
   "source": [
    "data_2 = data.loc[data['Sales']> 1000000000]\n",
    "data_2.info()"
   ]
  },
  {
   "cell_type": "code",
   "execution_count": 149,
   "id": "df6a1342",
   "metadata": {},
   "outputs": [
    {
     "data": {
      "text/html": [
       "<div>\n",
       "<style scoped>\n",
       "    .dataframe tbody tr th:only-of-type {\n",
       "        vertical-align: middle;\n",
       "    }\n",
       "\n",
       "    .dataframe tbody tr th {\n",
       "        vertical-align: top;\n",
       "    }\n",
       "\n",
       "    .dataframe thead th {\n",
       "        text-align: right;\n",
       "    }\n",
       "</style>\n",
       "<table border=\"1\" class=\"dataframe\">\n",
       "  <thead>\n",
       "    <tr style=\"text-align: right;\">\n",
       "      <th></th>\n",
       "      <th>Collections</th>\n",
       "      <th>Sales</th>\n",
       "      <th>Buyers</th>\n",
       "      <th>Txns</th>\n",
       "      <th>Owners</th>\n",
       "    </tr>\n",
       "  </thead>\n",
       "  <tbody>\n",
       "    <tr>\n",
       "      <th>0</th>\n",
       "      <td>Axie Infinity</td>\n",
       "      <td>3.328148e+09</td>\n",
       "      <td>1079811.0</td>\n",
       "      <td>9755511.0</td>\n",
       "      <td>2656431.0</td>\n",
       "    </tr>\n",
       "    <tr>\n",
       "      <th>1</th>\n",
       "      <td>CryptoPunks</td>\n",
       "      <td>1.664247e+09</td>\n",
       "      <td>4723.0</td>\n",
       "      <td>18961.0</td>\n",
       "      <td>3289.0</td>\n",
       "    </tr>\n",
       "    <tr>\n",
       "      <th>2</th>\n",
       "      <td>Art Blocks</td>\n",
       "      <td>1.075224e+09</td>\n",
       "      <td>20934.0</td>\n",
       "      <td>117602.0</td>\n",
       "      <td>25094.0</td>\n",
       "    </tr>\n",
       "  </tbody>\n",
       "</table>\n",
       "</div>"
      ],
      "text/plain": [
       "     Collections         Sales     Buyers       Txns     Owners\n",
       "0  Axie Infinity  3.328148e+09  1079811.0  9755511.0  2656431.0\n",
       "1    CryptoPunks  1.664247e+09     4723.0    18961.0     3289.0\n",
       "2     Art Blocks  1.075224e+09    20934.0   117602.0    25094.0"
      ]
     },
     "execution_count": 149,
     "metadata": {},
     "output_type": "execute_result"
    }
   ],
   "source": [
    "data_2"
   ]
  },
  {
   "cell_type": "code",
   "execution_count": 150,
   "id": "659e91ec",
   "metadata": {},
   "outputs": [
    {
     "data": {
      "image/png": "[encoded data removed]",
      "text/plain": [
       "<Figure size 432x288 with 1 Axes>"
      ]
     },
     "metadata": {
      "needs_background": "light"
     },
     "output_type": "display_data"
    }
   ],
   "source": [
    "bar_dia = sns.barplot(x= data_2['Collections'], y= data_2['Sales'])\n",
    "#bar_dia.set_xticklabels(bar_dia.get_xticklabels(), rotation=90)"
   ]
  },
  {
   "cell_type": "code",
   "execution_count": 151,
   "id": "a85ff6be",
   "metadata": {},
   "outputs": [
    {
     "data": {
      "text/plain": [
       "([<matplotlib.patches.Wedge at 0x24ce2db9a30>,\n",
       "  <matplotlib.patches.Wedge at 0x24ce2dc41f0>],\n",
       " [Text(0.3075457781346491, 1.0561323753921916, 'billion_club'),\n",
       "  Text(-0.30754558037014523, -1.056132432981201, 'others')],\n",
       " [Text(0.16775224261889948, 0.5760722047593773, '41.0%'),\n",
       "  Text(-0.16775213474735193, -0.5760722361715641, '59.0%')])"
      ]
     },
     "execution_count": 151,
     "metadata": {},
     "output_type": "execute_result"
    },
    {
     "data": {
      "image/png": "[encoded data removed]",
      "text/plain": [
       "<Figure size 720x360 with 1 Axes>"
      ]
     },
     "metadata": {},
     "output_type": "display_data"
    }
   ],
   "source": [
    "# The contribution of the billion sales collection in overal total sales\n",
    "\n",
    "billion_club = data_2['Sales'].sum()\n",
    "total_val   = data['Sales'].sum() \n",
    "others = total_val - billion_club\n",
    "sales_values = {'total sales':[billion_club,others] }\n",
    "pd.DataFrame(sales_values)\n",
    "clas_names = ['billion_club','others']\n",
    "plt.figure(figsize = (10,5))\n",
    "plt.pie(sales_values['total sales'],labels = clas_names,autopct='%1.1f%%',)"
   ]
  },
  {
   "cell_type": "markdown",
   "id": "52d543cb",
   "metadata": {},
   "source": [
    "### Sales Vs Buyers"
   ]
  },
  {
   "cell_type": "code",
   "execution_count": 152,
   "id": "58e2e4e3",
   "metadata": {},
   "outputs": [
    {
     "data": {
      "text/plain": [
       "<AxesSubplot:xlabel='Sales', ylabel='Txns'>"
      ]
     },
     "execution_count": 152,
     "metadata": {},
     "output_type": "execute_result"
    },
    {
     "data": {
      "image/png": "[encoded data removed]",
      "text/plain": [
       "<Figure size 432x288 with 1 Axes>"
      ]
     },
     "metadata": {
      "needs_background": "light"
     },
     "output_type": "display_data"
    }
   ],
   "source": [
    "# sale vs Buyers data of top 10 sold collections\n",
    "sns.lineplot(data=data_2, x=data_2['Sales'], y=data_2['Txns'])"
   ]
  },
  {
   "cell_type": "code",
   "execution_count": null,
   "id": "1428e860",
   "metadata": {},
   "outputs": [],
   "source": []
  }
 ],
 "metadata": {
  "kernelspec": {
   "display_name": "Python 3 (ipykernel)",
   "language": "python",
   "name": "python3"
  },
  "language_info": {
   "codemirror_mode": {
    "name": "ipython",
    "version": 3
   },
   "file_extension": ".py",
   "mimetype": "text/x-python",
   "name": "python",
   "nbconvert_exporter": "python",
   "pygments_lexer": "ipython3",
   "version": "3.9.7"
  }
 },
 "nbformat": 4,
 "nbformat_minor": 5
}
